# Import required libraires
import pandas as pd

# Set display options for pandas data frames
pd.set_option('display.max_columns', None)  # Display all columns
pd.set_option('display.width', 1000)        # Set display width to a high value





# Load the datasets
file1_path = 'API_BN.CAB.XOKA.GD.ZS_DS2_en_csv_v2_2788804/API_BN.CAB.XOKA.GD.ZS_DS2_en_csv_v2_2788804.csv'  # Current account balance (% of GDP)
file2_path = 'API_FP.CPI.TOTL.ZG_DS2_en_csv_v2_2789055/API_FP.CPI.TOTL.ZG_DS2_en_csv_v2_2789055.csv'  # Inflation, consumer prices (annual %)
file3_path = 'API_NY.GDP.MKTP.CD_DS2_en_csv_v2_2788787/API_NY.GDP.MKTP.CD_DS2_en_csv_v2_2788787.csv'  # GDP (current US$)
file4_path = 'API_SL.UEM.TOTL.NE.ZS_DS2_en_csv_v2_2817174/API_SL.UEM.TOTL.NE.ZS_DS2_en_csv_v2_2817174.csv'  # Unemployment, total (% of total labor force)

data1 = pd.read_csv(file1_path, skiprows=4)
data2 = pd.read_csv(file2_path, skiprows=4)
data3 = pd.read_csv(file3_path, skiprows=4)
data4 = pd.read_csv(file4_path, skiprows=4)


data1.head()


# Filter for 'Sweden' in 'Country Name' column
sweden_data1 = data1[data1['Country Name'] == 'Sweden']
sweden_data2 = data2[data2['Country Name'] == 'Sweden']
sweden_data3 = data3[data3['Country Name'] == 'Sweden']
sweden_data4 = data4[data4['Country Name'] == 'Sweden']


len(sweden_data4.columns)



# Keep only the year columns and indicator values and transposing to get year-wise columns
sweden_data1_cleaned = sweden_data1.drop(columns=['Country Name', 'Country Code', 'Indicator Name', 'Indicator Code', 'Unnamed: 68']).T
sweden_data2_cleaned = sweden_data2.drop(columns=['Country Name', 'Country Code', 'Indicator Name', 'Indicator Code', 'Unnamed: 68']).T
sweden_data3_cleaned = sweden_data3.drop(columns=['Country Name', 'Country Code', 'Indicator Name', 'Indicator Code', 'Unnamed: 68']).T
sweden_data4_cleaned = sweden_data4.drop(columns=['Country Name', 'Country Code', 'Indicator Name', 'Indicator Code', 'Unnamed: 68']).T


sweden_data2_cleaned.head()

sweden_data2_cleaned.shape


# Rename the columns for clarity
sweden_data1_cleaned.columns = ['Current Account Balance (% of GDP)']
sweden_data2_cleaned.columns = ['Inflation (CPI)']
sweden_data3_cleaned.columns = ['GDP (current US$)']
sweden_data4_cleaned.columns = ['Unemployment (% of Labor Force)']

# Combine the datasets into a single DataFrame
combined_data = pd.concat([sweden_data1_cleaned, sweden_data2_cleaned, sweden_data3_cleaned, sweden_data4_cleaned], axis=1)


# Set the index as 'Year'
combined_data.index.name = 'Year'

# Reset index to make 'Year' a column
combined_data.reset_index(inplace=True)


# Save the combined data to a new CSV file
output_file_path = 'Sweden_data.csv'
combined_data.to_csv(output_file_path, index=False)






