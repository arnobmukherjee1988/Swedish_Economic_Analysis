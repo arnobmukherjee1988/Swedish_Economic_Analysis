


# Import libraries

import pandas as pd
import matplotlib.pyplot as plt
import numpy as np
import matplotlib as mpl
import seaborn as sns

# Set display options for pandas data frames
pd.set_option('display.max_columns', None)  # Display all columns
pd.set_option('display.width', 1000)        # Set display width to a high value


# Function to print colored text
def print_colored(text, color):
    color_codes = {
        'black': '0;30',
        'red': '0;31',
        'green': '0;32',
        'yellow': '0;33',
        'blue': '0;34',
        'purple': '0;35',
        'cyan': '0;36',
        'white': '0;37',
        'bold_black': '1;30',
        'bold_red': '1;31',
        'bold_green': '1;32',
        'bold_yellow': '1;33',
        'bold_blue': '1;34',
        'bold_purple': '1;35',
        'bold_cyan': '1;36',
        'bold_white': '1;37'
    }
    color_code = color_codes.get(color, '0;30')  # Default to white if color not found
    print(f"\033[{color_code}m{text}\033[0m")

nice_fonts = {
        # Use LaTeX to write all text
        "text.usetex": True,
        "font.family": "serif",
        # Use 10pt font in plots, to match 10pt font in document
        "axes.labelsize": 10,
        "font.size": 10,
        # Make the legend/label fonts a little smaller
        "legend.fontsize": 10,
        "xtick.labelsize": 10,
        "ytick.labelsize": 10,
        #'text.latex.preamble' : [r'\usepackage{amsmath}'],
        'mathtext.fontset' : 'stix',
        'mathtext.rm' : 'serif'
}
mpl.rcParams.update(nice_fonts)





# Load the dataset
file_path = './Sweden_data.csv'
sweden_data = pd.read_csv(file_path)

# Set 'Year' as the index
sweden_data.set_index('Year', inplace=True)

# Check the first few rows of the dataset
print(sweden_data.head())
print("\n")
# Checking the structure and data types of the dataset
print("Data Information: ")
print(sweden_data.info())


# Example: Renaming specific columns in the DataFrame
sweden_data = sweden_data.rename(columns={
    'GDP (current US$)': 'GDP',
    'Current Account Balance (% of GDP)': 'Current_Account_Balance',
    'Inflation (CPI)': 'Inflation',
    'Unemployment (% of Labor Force)': 'Unemployment'
})

# Check the first few rows of the dataset
print(sweden_data.head())
print("\n")
# Checking the structure and data types of the dataset
print("Data Information: ")
print(sweden_data.info())





# Check for missing data
missing_data = sweden_data.isna().sum()
print("Missing Data:\n", missing_data)

# Visualize missing data using a heatmap
plt.figure(figsize=(10, 10))
sns.heatmap(sweden_data.isna(), cbar=True, cmap="viridis")
plt.title("Missing Data Heatmap")
plt.xlabel("Indicators")
plt.ylabel("Data Points in Year")
plt.savefig('heatmap.pdf')
plt.show()

# Handle missing data, filling missing data with the mean. Alternative methods: forward fill, backward fill, or interpolation
sweden_data_filled = sweden_data.fillna(sweden_data.mean())

# Check to ensure there are no more missing values
print("Missing Data After Filling:\n", sweden_data_filled.isna().sum())





# Check for duplicate rows
duplicate_rows = sweden_data_filled.duplicated().sum()
print(f"Number of duplicate rows: {duplicate_rows}")

if duplicate_rows != 0:
    sweden_data_filled.drop_duplicates(inplace=True)
    print("Duplicate rows removed")





# Set a style that is clean and professional
#sns.set(style="whitegrid")

# Set up the figure size and layout
plt.figure(figsize=(16, 12))

# Customize plot titles, labels, and color palette
plot_titles = [
    r'GDP (Current USD)',
    r'Current Account Balance ($\%$ of GDP)',
    'Inflation (CPI)',
    r'Unemployment ($\%$ of Labor Force)'
]

y_labels = [
    r'GDP',
    r'Current Account Balance',
    r'Inflation',
    r'Unemployment'
]

# Custom color palette for the boxplots
colors = ['#2a9d8f', '#e76f51', '#f4a261', '#264653']

# Plot each indicator with enhanced aesthetics
for i, column in enumerate(['GDP', 'Current_Account_Balance', 'Inflation', 'Unemployment']):
    plt.subplot(2, 2, i + 1)
    sns.boxplot(y=sweden_data_filled[column], color=colors[i], width=0.6)
    plt.title(plot_titles[i], fontsize=16, weight='bold')
    plt.ylabel(y_labels[i], fontsize=14)
    plt.grid(True, linestyle='--', alpha=0.6)

# Adjust layout for better spacing
plt.tight_layout()

# Save the plots as a high-resolution PDF
plt.savefig('boxplots.pdf', bbox_inches='tight', dpi=300)

# Show the plots
plt.show()





# Save the cleaned and processed data to a new CSV file
output_file_path = 'Sweden_data_processed.csv'
sweden_data_filled.to_csv(output_file_path)






