





import pandas as pd
import matplotlib.pyplot as plt
import seaborn as sns

# Load the dataset
file_path = 'Sweden_Economic_Indicators.csv'
sweden_data = pd.read_csv(file_path)

# Set 'Year' as the index to treat it as a time series
sweden_data.set_index('Year', inplace=True)

# Check the first few rows of the dataset
print(sweden_data.head())

# Checking the structure and data types of the dataset
# Ensuring that the data types are correct (e.g., Year is int, other columns are float)
print(sweden_data.info())





# Check for missing data
missing_data = sweden_data.isna().sum()
print("Missing Data:\n", missing_data)

# Visualize missing data using a heatmap
plt.figure(figsize=(10, 6))
sns.heatmap(sweden_data.isna(), cbar=False, cmap="viridis")
plt.title("Missing Data Heatmap")
plt.show()

# Handle missing data, filling missing data with the mean. Alternative methods: forward fill, backward fill, or interpolation
sweden_data_filled = sweden_data.fillna(sweden_data.mean())

# Check to ensure there are no more missing values
print("Missing Data After Filling:\n", sweden_data_filled.isna().sum())





# Check for duplicate rows
duplicate_rows = sweden_data_filled.duplicated().sum()
print(f"Number of duplicate rows: {duplicate_rows}")

# If duplicates are found, you can drop them using:
# sweden_data_filled.drop_duplicates(inplace=True)





# Visualize the distribution of each numerical column to check for outliers
plt.figure(figsize=(15, 10))

# Plotting GDP
plt.subplot(2, 2, 1)
sns.boxplot(y=sweden_data_filled['GDP (current US$)'])
plt.title('GDP (current US$)')

# Plotting Current Account Balance
plt.subplot(2, 2, 2)
sns.boxplot(y=sweden_data_filled['Current Account Balance (% of GDP)'])
plt.title('Current Account Balance (% of GDP)')

# Plotting Inflation
plt.subplot(2, 2, 3)
sns.boxplot(y=sweden_data_filled['Inflation (CPI)'])
plt.title('Inflation (CPI)')

# Plotting Unemployment
plt.subplot(2, 2, 4)
sns.boxplot(y=sweden_data_filled['Unemployment (% of Labor Force)'])
plt.title('Unemployment (% of Labor Force)')

plt.tight_layout()
plt.show()





# Save the cleaned and processed data to a new CSV file
output_file_path = 'Processed_Sweden_Economic_Indicators.csv'
sweden_data_filled.to_csv(output_file_path)

print(f"Data preprocessing complete. Processed data saved to {output_file_path}.")






